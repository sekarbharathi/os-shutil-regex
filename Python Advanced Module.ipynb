{
 "cells": [
  {
   "cell_type": "code",
   "execution_count": 1,
   "id": "ffaa0e49-a2d4-4036-a8dd-fe2d73b7d2e5",
   "metadata": {},
   "outputs": [],
   "source": [
    "import shutil"
   ]
  },
  {
   "cell_type": "code",
   "execution_count": 2,
   "id": "8d701f30-cc1a-400c-92fc-0908b5afe153",
   "metadata": {},
   "outputs": [],
   "source": [
    "shutil.unpack_archive(\"unzip_me_for_instructions.zip\",\"Instruction File\",\"zip\")"
   ]
  },
  {
   "cell_type": "code",
   "execution_count": 8,
   "id": "429df9fb-1204-495f-9514-64db1ffa747b",
   "metadata": {},
   "outputs": [],
   "source": [
    "file='C:\\\\Users\\\\hp\\\\Desktop\\\\Python\\\\Jupyter Notebook\\\\Instruction File\\\\extracted_content\\\\Instructions.txt'"
   ]
  },
  {
   "cell_type": "code",
   "execution_count": 9,
   "id": "11eab3da-4ffe-4f3a-887e-26ef01e4165f",
   "metadata": {},
   "outputs": [
    {
     "name": "stdout",
     "output_type": "stream",
     "text": [
      "Good work on unzipping the file!\n",
      "You should now see 5 folders, each with a lot of random .txt files.\n",
      "Within one of these text files is a telephone number formated ###-###-#### \n",
      "Use the Python os module and regular expressions to iterate through each file, open it, and search for a telephone number.\n",
      "Good luck!\n"
     ]
    }
   ],
   "source": [
    "with open(file) as f:\n",
    "    content = f.read()\n",
    "    print(content)"
   ]
  },
  {
   "cell_type": "code",
   "execution_count": 10,
   "id": "c2919ed0-4813-4c09-98c8-8dc5c874e718",
   "metadata": {},
   "outputs": [],
   "source": [
    "import re"
   ]
  },
  {
   "cell_type": "code",
   "execution_count": 11,
   "id": "408194a8-7f7c-490e-8571-c64a102d951b",
   "metadata": {},
   "outputs": [],
   "source": [
    "pattern = r'\\d{3}-\\d{3}-\\d{4}'"
   ]
  },
  {
   "cell_type": "code",
   "execution_count": 13,
   "id": "e4531614-fd0c-4c4f-acc6-ded6adaa1cd8",
   "metadata": {},
   "outputs": [],
   "source": [
    "text_string = \"444-555-6666 is my number\""
   ]
  },
  {
   "cell_type": "code",
   "execution_count": 14,
   "id": "eb58aca1-ec10-4fd4-aea7-0a060ce03a79",
   "metadata": {},
   "outputs": [
    {
     "data": {
      "text/plain": [
       "['444-555-6666']"
      ]
     },
     "execution_count": 14,
     "metadata": {},
     "output_type": "execute_result"
    }
   ],
   "source": [
    "re.findall(pattern,text_string)"
   ]
  },
  {
   "cell_type": "code",
   "execution_count": 24,
   "id": "f6afa248-b07f-4dc4-8242-1dab0a7d3a3d",
   "metadata": {},
   "outputs": [],
   "source": [
    "def search(file,pattern=r'\\d{3}-\\d{3}-\\d{4}'):\n",
    "    f = open(file,'r')\n",
    "    text = f.read()\n",
    "    \n",
    "    if re.search(pattern,text):\n",
    "        return re.search(pattern,text)\n",
    "    else:\n",
    "        return ''"
   ]
  },
  {
   "cell_type": "code",
   "execution_count": 25,
   "id": "b327fdb8-13e6-4153-8485-6561eb1627f3",
   "metadata": {},
   "outputs": [],
   "source": [
    "import os"
   ]
  },
  {
   "cell_type": "code",
   "execution_count": 26,
   "id": "a4fcd014-2545-4cc7-8c92-66a8dc4cff75",
   "metadata": {},
   "outputs": [],
   "source": [
    "results = []\n",
    "\n",
    "for folder,subfolder,files in os.walk('C:\\\\Users\\\\hp\\\\Desktop\\\\Python\\\\Jupyter Notebook\\\\Instruction File\\\\extracted_content'):#folder\n",
    "    for f in files:\n",
    "        fullpath = folder + \"\\\\\" + f\n",
    "        results.append(search(fullpath))"
   ]
  },
  {
   "cell_type": "code",
   "execution_count": 28,
   "id": "5470dccc-53d9-4661-b8e6-170081736f09",
   "metadata": {},
   "outputs": [
    {
     "name": "stdout",
     "output_type": "stream",
     "text": [
      "719-266-2837\n"
     ]
    }
   ],
   "source": [
    "for r in results:\n",
    "    if r!= '':\n",
    "        print(r.group())"
   ]
  },
  {
   "cell_type": "code",
   "execution_count": null,
   "id": "c058eb6a-020c-452f-bb2c-f561655e5339",
   "metadata": {},
   "outputs": [],
   "source": []
  }
 ],
 "metadata": {
  "kernelspec": {
   "display_name": "Python 3 (ipykernel)",
   "language": "python",
   "name": "python3"
  },
  "language_info": {
   "codemirror_mode": {
    "name": "ipython",
    "version": 3
   },
   "file_extension": ".py",
   "mimetype": "text/x-python",
   "name": "python",
   "nbconvert_exporter": "python",
   "pygments_lexer": "ipython3",
   "version": "3.11.7"
  }
 },
 "nbformat": 4,
 "nbformat_minor": 5
}
